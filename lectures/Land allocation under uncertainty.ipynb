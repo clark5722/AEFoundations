{
 "metadata": {
  "name": "",
  "signature": "sha256:4a7948c096942e04c8dfbb8b955108a8b13bd722b0349a32334815f974ae6a2a"
 },
 "nbformat": 3,
 "nbformat_minor": 0,
 "worksheets": [
  {
   "cells": [
    {
     "cell_type": "code",
     "collapsed": false,
     "input": [
      "import sympy as sym\n",
      "\n",
      "# make things look pretty in the notebook\n",
      "from sympy.interactive import printing\n",
      "printing.init_printing()\n",
      "\n",
      "\n",
      "#from sympy import init_session\n",
      "#init_session()\n",
      "\n",
      "import matplotlib as mpl\n",
      "import matplotlib.pyplot as plt\n",
      "import seaborn as sns\n",
      "%matplotlib inline\n",
      "\n",
      "import numpy as np\n",
      "import scipy as sp\n",
      "import pandas as pd\n",
      "import statsmodels as sm\n"
     ],
     "language": "python",
     "metadata": {},
     "outputs": [],
     "prompt_number": 4
    },
    {
     "cell_type": "markdown",
     "metadata": {},
     "source": [
      "# sympy, numpy, scipy, matplotlib, seaborn, pandas\n",
      "\n",
      "A farmer has $A$ units of land to allocate across $n$ crops. Net returns for each crop are uncertain and characterized by cummulative distribution functions, $F_i(y)$, for each crop. What's the first step to thinking about how the farmer *should* allocate her acres acros crops?\n",
      "\n",
      "- Discuss objective function, VN utility functions, and stochastic dominance\n",
      "\n",
      "### Exercise: Characterize profit maximizing allocation\n",
      "\n",
      "- Discuss subtly in moving from VN utility to expected utility\n",
      "- Let's assume the farmer has VN utility $u$ and wants to maximize expected utility.\n",
      "\n",
      "### Exercise: Characterize expected-utility maximizing allocation\n",
      "\n",
      "### Exercise: Examine numerically FOSD and SOSD of distrubtions\n",
      "\n",
      "### Exercise: Use distributions and utility function to compute range of profit maximizing and expected utility maximizing allocations\n",
      "\n",
      "### Exercise: What is the farmer's willingness to pay for insurance?\n",
      "\n",
      "- Write code that is general and use test for simple analytic expressions to verify\n",
      "\n",
      "### What is the welfare cost of uninsured risk?\n",
      "\n",
      "### Exercise\n",
      "\n",
      "Generate allocation choices for sample of heterogenous farmers based on individual-specific beliefs and low-level risk-aversion. Generate outcome from policy experiment that offers insurance. Let students measure \"impact\" from insurance program. How much did it change land allocation? What is the welfare gain from insurance? How much should we spend to subsidize program, and how much are farmers willing to pay for insurance? We have no idea because we don't the utility functions or the distributions. Can we estimate these things? How does this differ relative to *predicting* allocations based on farmer characteristics. Let's give each farmer a characteristic. This will allow us to use fixed effect plus common regressor for prediction.\n",
      "\n",
      "Economics gives us a model and lets us look at counterfactuals and welfare, but our model could be totally wrong and as a consequence give us bad advice. *But*, if we have a sensible model that makes good predictions, if someone thinks the model is wrong, the onus is on them to come up with a different model that explains the data better.\n",
      "\n",
      "Two examples:\n",
      "\n",
      "- Farmers have different beliefs. Education is a better intervention than insurance.\n",
      "- Farmers self-insure with neighbors and insurance crowds out this sharing.\n",
      "- Adverse selection: insurance will select bad risks and be a lot more costly than we expected\n",
      "- Moral hazard: insurance will change the distribution of returns!"
     ]
    },
    {
     "cell_type": "markdown",
     "metadata": {},
     "source": []
    }
   ],
   "metadata": {}
  }
 ]
}