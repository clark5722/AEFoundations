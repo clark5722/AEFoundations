{
 "metadata": {
  "name": "",
  "signature": "sha256:761e7ed0316aadaed07c8a88fd0456bd6574c653c79d24950ae50282307e0ba7"
 },
 "nbformat": 3,
 "nbformat_minor": 0,
 "worksheets": [
  {
   "cells": [
    {
     "cell_type": "code",
     "collapsed": false,
     "input": [
      "import sympy as sp\n",
      "\n",
      "# make things look pretty in the notebook\n",
      "from sympy.interactive import printing\n",
      "printing.init_printing()\n",
      "\n",
      "%matplotlib inline"
     ],
     "language": "python",
     "metadata": {},
     "outputs": [],
     "prompt_number": 7
    },
    {
     "cell_type": "code",
     "collapsed": false,
     "input": [
      "a,d,q,r,L,pi1,pi2,piH,piL,c = sp.symbols('alpha delta q rho L pi_1 pi_2 pi_H pi_L c')"
     ],
     "language": "python",
     "metadata": {},
     "outputs": [],
     "prompt_number": 8
    },
    {
     "cell_type": "code",
     "collapsed": false,
     "input": [
      "# I'm defining risk aversion is 1-rho, with rho < 1.\n",
      "# This simplifies the algebra.\n",
      "\n",
      "u = lambda x: x**r"
     ],
     "language": "python",
     "metadata": {},
     "outputs": [],
     "prompt_number": 13
    },
    {
     "cell_type": "code",
     "collapsed": false,
     "input": [
      "u_a = lambda x: u(x*L*pi1 + (1-x)*L*pi2)\n",
      "\n",
      "\n",
      "# Note that I'm manually factoring L and then implicitly \n",
      "# setting the equation to zero and removing L (by setting it to 1).\n",
      "# Solving this equation is a little tricky.\n",
      "expected_marginal_util = (q*u_a(a).diff(a).factor(L).subs(pi2,piL)+(1-q)*u_a(a).diff(a).factor(L).subs(pi2,piH)).subs(L,1)\n",
      "D = ((1-q)*(piH-pi1)/(q*(pi1-piL)))**(1/(1-r))\n",
      "solution = (piH-D*piL)/(D*(pi1-piL)+(piH-pi1))"
     ],
     "language": "python",
     "metadata": {},
     "outputs": [],
     "prompt_number": 14
    },
    {
     "cell_type": "code",
     "collapsed": false,
     "input": [
      "parameters = {q: .3,pi1: 1,piL: 0,piH: 2}\n",
      "\n",
      "# Recall that low rho represents high risk aversion.\n",
      "sp.plot(solution.subs(parameters),(r,.01,.99))\n"
     ],
     "language": "python",
     "metadata": {},
     "outputs": [
      {
       "metadata": {},
       "output_type": "display_data",
       "png": "[encoded data removed]",
       "text": [
        "<matplotlib.figure.Figure at 0x10b213828>"
       ]
      },
      {
       "metadata": {},
       "output_type": "pyout",
       "prompt_number": 15,
       "text": [
        "<sympy.plotting.plot.Plot at 0x10b213a58>"
       ]
      }
     ],
     "prompt_number": 15
    },
    {
     "cell_type": "code",
     "collapsed": false,
     "input": [],
     "language": "python",
     "metadata": {},
     "outputs": []
    }
   ],
   "metadata": {}
  }
 ]
}